{
 "cells": [
  {
   "cell_type": "code",
   "execution_count": 3,
   "id": "a3d9bf30",
   "metadata": {},
   "outputs": [],
   "source": [
    "# Programming Task_1 (Basic Python Programming)"
   ]
  },
  {
   "cell_type": "code",
   "execution_count": null,
   "id": "609b2ccf",
   "metadata": {},
   "outputs": [],
   "source": [
    "# say_'hello, World!'_with_python\n",
    "\n",
    "print(\"Hello, World!\")"
   ]
  },
  {
   "cell_type": "code",
   "execution_count": null,
   "id": "61632c14",
   "metadata": {},
   "outputs": [],
   "source": [
    "# if-else\n",
    "\n",
    "n = int(input())\n",
    "\n",
    "if n % 2 == 1:\n",
    "    print(\"Weird\")\n",
    "elif n % 2 == 0 and 2 <= n <= 5:\n",
    "    print(\"Not Weird\")\n",
    "elif n % 2 == 0 and 6 <= n <= 20:\n",
    "    print(\"Weird\")\n",
    "else:\n",
    "    print(\"Not Weird\")"
   ]
  },
  {
   "cell_type": "code",
   "execution_count": null,
   "id": "5ac99a45",
   "metadata": {},
   "outputs": [],
   "source": [
    "# arithmetic operators\n",
    "\n",
    "if __name__ == '__main__':\n",
    "    \n",
    "    a = int(input())\n",
    "    b = int(input())\n",
    "\n",
    "    print(a + b)\n",
    "    print(a - b)\n",
    "    print(a * b)"
   ]
  },
  {
   "cell_type": "code",
   "execution_count": null,
   "id": "056e9840",
   "metadata": {},
   "outputs": [],
   "source": [
    "# division\n",
    "\n",
    "if __name__ == '__main__':\n",
    "    \n",
    "    a = int(input())\n",
    "    b = int(input())\n",
    "\n",
    "    print(int(a / b))\n",
    "    print(float(a / b))"
   ]
  },
  {
   "cell_type": "code",
   "execution_count": null,
   "id": "e19cd3d4",
   "metadata": {},
   "outputs": [],
   "source": [
    "# loop\n",
    "\n",
    "if __name__ == '__main__':\n",
    "    \n",
    "    n = int(input())\n",
    "\n",
    "    for i in range(n):\n",
    "        print(i**2)"
   ]
  },
  {
   "cell_type": "code",
   "execution_count": null,
   "id": "dce78c2d",
   "metadata": {},
   "outputs": [],
   "source": [
    "# function\n",
    "\n",
    "def is_leap(year):\n",
    "    leap = False\n",
    "\n",
    "    if year % 4 == 0:\n",
    "        if year % 100 == 0 :\n",
    "            if year % 400 == 0:\n",
    "                leap = True\n",
    "            else:\n",
    "                leap = False\n",
    "        else:\n",
    "            leap = True\n",
    "    else :\n",
    "        leap = False\n",
    "    return leap\n",
    "\n",
    "year = int(input())\n",
    "print(is_leap(year))"
   ]
  },
  {
   "cell_type": "code",
   "execution_count": null,
   "id": "a0121bf6",
   "metadata": {},
   "outputs": [],
   "source": [
    "# function_1\n",
    "\n",
    "def is_leap(year):\n",
    "    return year % 4 == 0 and (year % 100 != 0 or year % 400 == 0)\n",
    "\n",
    "year = int(input())\n",
    "print(is_leap(year))"
   ]
  },
  {
   "cell_type": "code",
   "execution_count": null,
   "id": "84d774f1",
   "metadata": {},
   "outputs": [],
   "source": [
    "# function_2\n",
    "\n",
    "def is_leap(year):\n",
    "    leap = False\n",
    "    if year%4:\n",
    "        return False\n",
    "    elif year%100:\n",
    "        return True\n",
    "    elif year%400:\n",
    "        return False\n",
    "    else:\n",
    "        return True"
   ]
  },
  {
   "cell_type": "code",
   "execution_count": null,
   "id": "5c877ae4",
   "metadata": {},
   "outputs": [],
   "source": [
    "# print_function\n",
    "\n",
    "if __name__ == '__main__':\n",
    "    \n",
    "    n = int(input())\n",
    "    lst = []\n",
    "    for num in range(1, n+1):\n",
    "        lst.append(str(num))\n",
    "    print(\"\".join(lst))"
   ]
  },
  {
   "cell_type": "code",
   "execution_count": null,
   "id": "b26bb38a",
   "metadata": {},
   "outputs": [],
   "source": [
    "# print_function_1\n",
    "\n",
    "if __name__ == '__main__':\n",
    "    \n",
    "    n = int(input())\n",
    "    lst = \"\"\n",
    "    for num in range(1, n+1):\n",
    "      lst += str(num)\n",
    "    print(lst)"
   ]
  },
  {
   "cell_type": "code",
   "execution_count": null,
   "id": "70484c35",
   "metadata": {},
   "outputs": [],
   "source": [
    "# print_function_2\n",
    "\n",
    "if__name__ == '__main__':\n",
    "    \n",
    "    n = int(input())\n",
    "    lst = [x for x in range(1,n+1)]\n",
    "    print(*lst, sep=\"\")"
   ]
  },
  {
   "cell_type": "code",
   "execution_count": null,
   "id": "c65602bb",
   "metadata": {},
   "outputs": [],
   "source": [
    "# print_function_3\n",
    "\n",
    "if __name__ == '__main__':\n",
    "    \n",
    "    n = int(input())\n",
    "    print(\"\".join([str(x) for x in range(1,n+1)]))"
   ]
  },
  {
   "cell_type": "code",
   "execution_count": null,
   "id": "a4c9ae0b",
   "metadata": {},
   "outputs": [],
   "source": [
    "# print_function_4\n",
    "\n",
    "if __name__ == '__main__':\n",
    "    \n",
    "    n = int(input())\n",
    "    print(*range(1, n + 1), sep=\"\")"
   ]
  }
 ],
 "metadata": {
  "kernelspec": {
   "display_name": "Python 3 (ipykernel)",
   "language": "python",
   "name": "python3"
  },
  "language_info": {
   "codemirror_mode": {
    "name": "ipython",
    "version": 3
   },
   "file_extension": ".py",
   "mimetype": "text/x-python",
   "name": "python",
   "nbconvert_exporter": "python",
   "pygments_lexer": "ipython3",
   "version": "3.10.5"
  }
 },
 "nbformat": 4,
 "nbformat_minor": 5
}
