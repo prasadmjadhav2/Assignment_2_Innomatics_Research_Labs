{
 "cells": [
  {
   "cell_type": "code",
   "execution_count": 1,
   "id": "1a86098b",
   "metadata": {},
   "outputs": [],
   "source": [
    "# Programming Task_3 (Python Maths)"
   ]
  },
  {
   "cell_type": "code",
   "execution_count": null,
   "id": "0423c633",
   "metadata": {},
   "outputs": [],
   "source": [
    "# polar_coordinates\n",
    "\n",
    "import cmath\n",
    "\n",
    "z = complex(input())\n",
    "\n",
    "r = abs(z)\n",
    "phi = cmath.phase(z)\n",
    "\n",
    "print(r)\n",
    "print(phi)"
   ]
  },
  {
   "cell_type": "code",
   "execution_count": null,
   "id": "8bc6a601",
   "metadata": {},
   "outputs": [],
   "source": [
    "# polar_coordinates_1\n",
    "\n",
    "from cmath import polar\n",
    "\n",
    "z = complex(input())\n",
    "\n",
    "print(*polar(z), sep='\\n')"
   ]
  },
  {
   "cell_type": "code",
   "execution_count": null,
   "id": "13b71a69",
   "metadata": {},
   "outputs": [],
   "source": [
    "# find_angle MBC\n",
    "\n",
    "from math import degrees, atan2\n",
    "\n",
    "AB = int(input())\n",
    "BC = int(input())\n",
    "\n",
    "RESULT = round(degrees(atan2(AB, BC)))\n",
    "print(str(RESULT) + '°')"
   ]
  },
  {
   "cell_type": "code",
   "execution_count": null,
   "id": "c3bf1bdc",
   "metadata": {},
   "outputs": [],
   "source": [
    "find_angle MBC_1\n",
    "\n",
    "import math\n",
    "\n",
    "ab=int(input())\n",
    "bc=int(input())\n",
    "\n",
    "ca=math.hypot(ab,bc)\n",
    "mc=ca/2\n",
    "bca=math.asin(1*ab/ca)\n",
    "bm=math.sqrt((bc**2+mc**2)-(2*bc*mc*math.cos(bca)))\n",
    "mbc=math.asin(math.sin(bca)*mc/bm)\n",
    "\n",
    "print(int(round(math.degrees(mbc),0)),'\\u00B0',sep='')"
   ]
  },
  {
   "cell_type": "code",
   "execution_count": null,
   "id": "141f73b1",
   "metadata": {},
   "outputs": [],
   "source": [
    "# triangle quest_2\n",
    "\n",
    "for i in range(1, int(input())+1):\n",
    "    print(((10**i)//9)**2)"
   ]
  },
  {
   "cell_type": "code",
   "execution_count": null,
   "id": "bd8fc688",
   "metadata": {},
   "outputs": [],
   "source": [
    "# mod_divmod\n",
    "\n",
    "A = int(input())\n",
    "B = int(input())\n",
    "\n",
    "print(A//B)\n",
    "print(A%B)\n",
    "print(divmod(A, B))"
   ]
  },
  {
   "cell_type": "code",
   "execution_count": null,
   "id": "d1301334",
   "metadata": {},
   "outputs": [],
   "source": [
    "# mod_power\n",
    "\n",
    "import math\n",
    "\n",
    "a = int(input())\n",
    "b = int(input())\n",
    "m = int(input())\n",
    "\n",
    "c = math.pow(a, b)\n",
    "d = c%m\n",
    "\n",
    "print(int(c))\n",
    "print(int(d))"
   ]
  },
  {
   "cell_type": "code",
   "execution_count": null,
   "id": "7dc56057",
   "metadata": {},
   "outputs": [],
   "source": [
    "# integers come in all sizes\n",
    "\n",
    "a = int(input())\n",
    "b = int(input())\n",
    "c = int(input())\n",
    "d = int(input())\n",
    "\n",
    "print((a**b)+(c**d))"
   ]
  },
  {
   "cell_type": "code",
   "execution_count": null,
   "id": "d76f0a00",
   "metadata": {},
   "outputs": [],
   "source": [
    "# triangle_quest\n",
    "\n",
    "for i in range(1, int(input())):\n",
    "    print((10**(i)//9)*i)"
   ]
  }
 ],
 "metadata": {
  "kernelspec": {
   "display_name": "Python 3 (ipykernel)",
   "language": "python",
   "name": "python3"
  },
  "language_info": {
   "codemirror_mode": {
    "name": "ipython",
    "version": 3
   },
   "file_extension": ".py",
   "mimetype": "text/x-python",
   "name": "python",
   "nbconvert_exporter": "python",
   "pygments_lexer": "ipython3",
   "version": "3.10.5"
  }
 },
 "nbformat": 4,
 "nbformat_minor": 5
}
